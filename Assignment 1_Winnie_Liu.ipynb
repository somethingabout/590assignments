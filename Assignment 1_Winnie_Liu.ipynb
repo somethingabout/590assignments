{
 "cells": [
  {
   "cell_type": "markdown",
   "metadata": {},
   "source": [
    "![](https://media.giphy.com/media/ccRMvuh3PeuSGgOWVx/giphy.gif)"
   ]
  },
  {
   "cell_type": "markdown",
   "metadata": {},
   "source": [
    "Remember the rules of ~Fight~ Code Club:\n",
    "1. ALWAYS DOCUMENT\n",
    "2. Cite resources that you use (paste links)\n",
    "3. Include the names people who you worked with\n",
    "4. Be neat and organized"
   ]
  },
  {
   "cell_type": "markdown",
   "metadata": {},
   "source": [
    "# Question 1\n",
    "Identify the lists below. If they are a list, explain how you know this (syntax or function that you used). If it is not a list, tell me what it is and explain how you know this.\n",
    "\n",
    "1. `np.std()`\n",
    "2. `print(['hello', 67, 85, '25'])`\n",
    "3. `['fall','spring','summer','winter']`\n",
    "4. `{'a':1, 'b':2, 'c': 3, 'd':4, 'e':5, 'g':6}`\n",
    "5. `[[1,45],[56,89],[88,45]]`\n",
    "6. `('August','September', 'October','November','December')`"
   ]
  },
  {
   "cell_type": "code",
   "execution_count": 4,
   "metadata": {},
   "outputs": [],
   "source": [
    "import numpy as np\n"
   ]
  },
  {
   "cell_type": "code",
   "execution_count": 5,
   "metadata": {
    "collapsed": true
   },
   "outputs": [
    {
     "ename": "TypeError",
     "evalue": "_std_dispatcher() missing 1 required positional argument: 'a'",
     "output_type": "error",
     "traceback": [
      "\u001b[1;31m---------------------------------------------------------------------------\u001b[0m",
      "\u001b[1;31mTypeError\u001b[0m                                 Traceback (most recent call last)",
      "\u001b[1;32m<ipython-input-5-d6cb6c6a8b2d>\u001b[0m in \u001b[0;36m<module>\u001b[1;34m\u001b[0m\n\u001b[1;32m----> 1\u001b[1;33m \u001b[0mnp\u001b[0m\u001b[1;33m.\u001b[0m\u001b[0mstd\u001b[0m\u001b[1;33m(\u001b[0m\u001b[1;33m)\u001b[0m\u001b[1;33m\u001b[0m\u001b[1;33m\u001b[0m\u001b[0m\n\u001b[0m",
      "\u001b[1;32m<__array_function__ internals>\u001b[0m in \u001b[0;36mstd\u001b[1;34m(*args, **kwargs)\u001b[0m\n",
      "\u001b[1;31mTypeError\u001b[0m: _std_dispatcher() missing 1 required positional argument: 'a'"
     ]
    }
   ],
   "source": [
    "#1\n",
    "np.std() # it is a function to calculate the standard deviation of a column in the data frame. \n",
    "# since np is not defined here, the code did not return anything. "
   ]
  },
  {
   "cell_type": "code",
   "execution_count": 7,
   "metadata": {
    "scrolled": true
   },
   "outputs": [
    {
     "name": "stdout",
     "output_type": "stream",
     "text": [
      "['hello', 67, 85, '25']\n"
     ]
    },
    {
     "data": {
      "text/plain": [
       "list"
      ]
     },
     "execution_count": 7,
     "metadata": {},
     "output_type": "execute_result"
    }
   ],
   "source": [
    "#2\n",
    "type(print(['hello', 67, 85, '25'])) # with the command print, it returns a nontype. \n",
    "type(['hello', 67, 85, '25']) # by removing the print comand, the item is considered as a list. \n"
   ]
  },
  {
   "cell_type": "code",
   "execution_count": 9,
   "metadata": {},
   "outputs": [
    {
     "data": {
      "text/plain": [
       "list"
      ]
     },
     "execution_count": 9,
     "metadata": {},
     "output_type": "execute_result"
    }
   ],
   "source": [
    "#3\n",
    "type(['fall','spring','summer','winter'])\n",
    "# this is a list. "
   ]
  },
  {
   "cell_type": "code",
   "execution_count": 10,
   "metadata": {},
   "outputs": [
    {
     "data": {
      "text/plain": [
       "dict"
      ]
     },
     "execution_count": 10,
     "metadata": {},
     "output_type": "execute_result"
    }
   ],
   "source": [
    "#4\n",
    "type({'a':1, 'b':2, 'c': 3, 'd':4, 'e':5, 'g':6})\n",
    "# the type function shows that it is not a list, but a dictionary. "
   ]
  },
  {
   "cell_type": "code",
   "execution_count": 11,
   "metadata": {},
   "outputs": [
    {
     "data": {
      "text/plain": [
       "list"
      ]
     },
     "execution_count": 11,
     "metadata": {},
     "output_type": "execute_result"
    }
   ],
   "source": [
    "#5\n",
    "type([[1,45],[56,89],[88,45]])\n",
    "# this is a list. "
   ]
  },
  {
   "cell_type": "code",
   "execution_count": 12,
   "metadata": {},
   "outputs": [
    {
     "data": {
      "text/plain": [
       "tuple"
      ]
     },
     "execution_count": 12,
     "metadata": {},
     "output_type": "execute_result"
    }
   ],
   "source": [
    "#6\n",
    "type(('August','September', 'October','November','December'))\n",
    "# the type function shows that this is a tuple, which is immutable whereas list is mutable. "
   ]
  },
  {
   "cell_type": "markdown",
   "metadata": {},
   "source": [
    "Source:    \n",
    "Type Function: https://www.geeksforgeeks.org/python-type-function/"
   ]
  },
  {
   "cell_type": "markdown",
   "metadata": {},
   "source": [
    "## Question 2\n",
    "\n",
    "1. Write a python script that prints 'even' for every even number \n",
    "2. and creates a new list of even numbers (using list comprehension)\n",
    "\n",
    "using the series: [1,2,3,7,9,34,56,70,90,123,136,148,156] "
   ]
  },
  {
   "cell_type": "code",
   "execution_count": 16,
   "metadata": {},
   "outputs": [
    {
     "name": "stdout",
     "output_type": "stream",
     "text": [
      "2 is even\n",
      "34 is even\n",
      "56 is even\n",
      "70 is even\n",
      "90 is even\n",
      "136 is even\n",
      "148 is even\n",
      "156 is even\n"
     ]
    }
   ],
   "source": [
    "#1\n",
    "numbers = [1,2,3,7,9,34,56,70,90,123,136,148,156]\n",
    "\n",
    "for i in numbers: # for every item in the list numbers\n",
    "    if i % 2 == 0: # devide i by 2, if the remainder is 0, print i is even. \n",
    "        print(i,\"is even\")"
   ]
  },
  {
   "cell_type": "code",
   "execution_count": 15,
   "metadata": {},
   "outputs": [
    {
     "name": "stdout",
     "output_type": "stream",
     "text": [
      "2 is even.\n",
      "34 is even.\n",
      "56 is even.\n",
      "70 is even.\n",
      "90 is even.\n",
      "136 is even.\n",
      "148 is even.\n",
      "156 is even.\n"
     ]
    }
   ],
   "source": [
    "# this is another way to do qustion 1\n",
    "numbers = [1,2,3,7,9,34,56,70,90,123,136,148,156]\n",
    "even = [2,34,56,70,90,136,148,156] #create another list with all the even numbers\n",
    "\n",
    "for i in numbers:\n",
    "    if i in even: # if the item in \"numbers\" is also in the list \"even,\" print \"i is even.\"\n",
    "        print(i,\"is even.\")"
   ]
  },
  {
   "cell_type": "code",
   "execution_count": null,
   "metadata": {},
   "outputs": [],
   "source": [
    "#2 Create a new list of even numbers using list comprehension\n",
    "\n",
    "numbers = [1,2,3,7,9,34,56,70,90,123,136,148,156]\n",
    "even = [] # create an empty list called even\n",
    "\n",
    "for i in numbers:  # for every item in the list numbers, if i divided by 2 ends up with no remainder, add i to the list \"even\"\n",
    "    if i % 2 == 0:\n",
    "        even.append(i)\n",
    "\n",
    "print(even) # print the list \"even\"\n"
   ]
  },
  {
   "cell_type": "markdown",
   "metadata": {},
   "source": [
    "Source:    \n",
    "List comprehension: https://www.w3schools.com/python/python_lists_comprehension.asp"
   ]
  },
  {
   "cell_type": "markdown",
   "metadata": {},
   "source": [
    "## Question 3\n",
    "\n",
    "Write a script that skips vowels from the following string: \"Python is for everyone!\"\n",
    "\n",
    "Be sure that this outputs in one string or list in one line."
   ]
  },
  {
   "cell_type": "code",
   "execution_count": 27,
   "metadata": {},
   "outputs": [
    {
     "name": "stdout",
     "output_type": "stream",
     "text": [
      "['P', 'y', 't', 'h', 'n', ' ', 's', ' ', 'f', 'r', ' ', 'v', 'r', 'y', 'n', '!']\n"
     ]
    }
   ],
   "source": [
    "sentence = \"Python is for everyone!\" # create a string\n",
    "chars = list(sentence) # split the string into letters and create a list of the letters\n",
    "for i in chars: # for each letters in the list, if the letter is within the vowel list, remove the letter. \n",
    "    if i in ['a', 'e', 'i', 'o', 'u']:\n",
    "        chars.remove(i)\n",
    "print(chars) # print the list with all vowels removed \n"
   ]
  },
  {
   "cell_type": "markdown",
   "metadata": {},
   "source": [
    "Source:    \n",
    "Converting strings to lists: https://www.techiedelight.com/convert-string-to-list-of-characters-python/     \n",
    "Removing items from list: https://www.programiz.com/python-programming/methods/list/remove"
   ]
  },
  {
   "cell_type": "markdown",
   "metadata": {},
   "source": [
    "## Question 4\n",
    "\n",
    "Use a numpy function that randomly generates numbers in an array that has the shape(8,8)"
   ]
  },
  {
   "cell_type": "code",
   "execution_count": 30,
   "metadata": {},
   "outputs": [
    {
     "data": {
      "text/plain": [
       "array([[57, 55, 87, 16,  8, 89, 88, 25],\n",
       "       [28, 16,  3, 69,  3, 52, 74, 36],\n",
       "       [81,  4, 79, 19, 51, 91, 52, 77],\n",
       "       [94, 44,  8, 41, 94, 22, 59, 96],\n",
       "       [ 8, 21, 61,  2, 80, 35, 52, 99],\n",
       "       [74, 56, 43, 39, 39, 29, 81, 13],\n",
       "       [79, 17,  6, 84, 27, 40, 79, 19],\n",
       "       [ 7, 49, 69, 45, 26, 23, 34, 70]])"
      ]
     },
     "execution_count": 30,
     "metadata": {},
     "output_type": "execute_result"
    }
   ],
   "source": [
    "import numpy as np\n",
    "random = np.random.randint(1,100, size=(8,8)) # generate an array with 8 columns and 8 rows, randomly fill the array with numnbers from 1 to 100\n",
    "random # print the array\n"
   ]
  },
  {
   "cell_type": "markdown",
   "metadata": {},
   "source": [
    "## Question 5\n",
    "Using the following arrays:\n",
    "\n",
    "a = np.array([45,86,78,300,586,686,486,794,486,58,77,93,55,83,136])\n",
    "\n",
    "b = np.array([45,67,239,555,597,264,908,562,44,58,39,57,62,58,224])\n",
    "\n",
    "Write a python code using **numpy** that:\n",
    "   1. calculates the difference between the minimum and maximum number for each earray\n",
    "   2. calculates the 75th percentile for each array\n",
    "   3. calculates the mean and standard deviation for each array\n",
    "   4. calculates the correlation coefficient between the two arrays\n",
    "    \n",
    "Please document what those numbers are in your answer. \n",
    "\n",
    "Hint: the functions for these statistics can easily be found in the lecture slides and any reference guide to python"
   ]
  },
  {
   "cell_type": "code",
   "execution_count": null,
   "metadata": {},
   "outputs": [],
   "source": [
    "#1\n",
    "# creating array a and b\n",
    "a = np.array([45,86,78,300,586,686,486,794,486,58,77,93,55,83,136])\n",
    "b = np.array([45,67,239,555,597,264,908,562,44,58,39,57,62,58,224])\n",
    "# np.amax(a) takes the highest value in array a, np.amin(a) takes the lowest value in array a. \n",
    "answer1a = np.amax(a) - np.amin(a)\n",
    "print(\"The difference between the minimum and maximum number for array a is\",answer1a)\n",
    "answer1b = np.amax(b) - np.amin(b)\n",
    "print(\"The difference between the minimum and maximum number for array b is\",answer1b)\n"
   ]
  },
  {
   "cell_type": "code",
   "execution_count": 37,
   "metadata": {},
   "outputs": [
    {
     "name": "stdout",
     "output_type": "stream",
     "text": [
      "The 75th percentile for array a is 486.0\n",
      "The 75th percentile for array b is 409.5\n"
     ]
    }
   ],
   "source": [
    "#2\n",
    "answer2a = np.percentile(a, 75) # np.percentile function takes the 75th percentile in array a\n",
    "print(\"The 75th percentile for array a is\",answer2a)\n",
    "answer2b = np.percentile(b, 75)\n",
    "print(\"The 75th percentile for array b is\",answer2b)"
   ]
  },
  {
   "cell_type": "code",
   "execution_count": 40,
   "metadata": {},
   "outputs": [
    {
     "name": "stdout",
     "output_type": "stream",
     "text": [
      "The mean of array a is 269.93\n",
      "The mean of array b is 251.93\n",
      "The standard deviation of array a is 255.04\n",
      "The standard deviation of array b is 265.01\n"
     ]
    }
   ],
   "source": [
    "#3\n",
    "answer3a_mean = round(np.mean(a),2) # numpy.mean(a) calculates the mean of array a, and then the result is rounded to 2 decimal places\n",
    "print(\"The mean of array a is\", answer3a_mean)\n",
    "answer3b_mean = round(np.mean(b), 2)\n",
    "print(\"The mean of array b is\", answer3b_mean)\n",
    "answer3a_std = round(np.std(a),2) # numpy.std(a) calculates the standard deviation of array a, and then the result is rounded to 2 decimal places.\n",
    "print(\"The standard deviation of array a is\", answer3a_std)\n",
    "answer3b_std = round(np.std(b),2) \n",
    "print(\"The standard deviation of array b is\", answer3b_std)"
   ]
  },
  {
   "cell_type": "code",
   "execution_count": 42,
   "metadata": {},
   "outputs": [
    {
     "name": "stdout",
     "output_type": "stream",
     "text": [
      "[[1.         0.65399586]\n",
      " [0.65399586 1.        ]]\n"
     ]
    }
   ],
   "source": [
    "#4 Coefficient Correlation\n",
    "print(np.corrcoef(a,b))"
   ]
  },
  {
   "cell_type": "markdown",
   "metadata": {},
   "source": [
    "Source:   \n",
    "Calculating maximums and minimums using the numpy function: https://numpy.org/doc/stable/reference/generated/numpy.amax.html     \n",
    "Calculating percentiles using the numpy function: https://www.geeksforgeeks.org/numpy-percentile-in-python/      \n",
    "Rounding numbers: https://www.w3schools.com/python/ref_func_round.asp     \n",
    "Calculating means using the numpy function: https://numpy.org/doc/stable/reference/generated/numpy.mean.html   \n",
    "Calculating the standard deviation using the numpy function: https://numpy.org/doc/stable/reference/generated/numpy.std.html   Calculating the correlation coefficient using the numpy function: https://realpython.com/numpy-scipy-pandas-correlation-python/ \n"
   ]
  },
  {
   "cell_type": "markdown",
   "metadata": {},
   "source": [
    "## Question 6\n",
    "\n",
    "1. Import the data set \"moveidataset.csv\"\n",
    "2. Find out the average revenue for movies that start with the letter \"s\"\n",
    "3. Create a for loop that calculates the average earnings for movies that start with each letter of the alphabet (ie average for movies that start with a, average for movies that start in b).  Make sure the averages are stored in one list.\n",
    "4. Slice the above list so that you show the average earnings for movies that start with the letter l through p.\n",
    "5. Write a for loop that prints out the first five movies of each letter of the alphabet. Use a nested loop.\n",
    "6. What is the difference in average movie earnings between movies that were turned into a novel compared to movies that were note turned into a novel (ie a movie that that was turned into novel is where novel = 1)?\n",
    "7. Create a new variable (name it whatever you want) the is the ratio of revenue over budget.\n",
    "8. Export your new dataset into your repo folder with the name \"newmovieds.csv\""
   ]
  },
  {
   "cell_type": "code",
   "execution_count": 29,
   "metadata": {},
   "outputs": [
    {
     "data": {
      "text/html": [
       "<div>\n",
       "<style scoped>\n",
       "    .dataframe tbody tr th:only-of-type {\n",
       "        vertical-align: middle;\n",
       "    }\n",
       "\n",
       "    .dataframe tbody tr th {\n",
       "        vertical-align: top;\n",
       "    }\n",
       "\n",
       "    .dataframe thead th {\n",
       "        text-align: right;\n",
       "    }\n",
       "</style>\n",
       "<table border=\"1\" class=\"dataframe\">\n",
       "  <thead>\n",
       "    <tr style=\"text-align: right;\">\n",
       "      <th></th>\n",
       "      <th>Unnamed: 0</th>\n",
       "      <th>Film</th>\n",
       "      <th>Budget</th>\n",
       "      <th>Revenue</th>\n",
       "      <th>Novel</th>\n",
       "    </tr>\n",
       "  </thead>\n",
       "  <tbody>\n",
       "    <tr>\n",
       "      <th>0</th>\n",
       "      <td>0</td>\n",
       "      <td>(500) Days of Summer</td>\n",
       "      <td>7500000</td>\n",
       "      <td>60722734</td>\n",
       "      <td>0.0</td>\n",
       "    </tr>\n",
       "    <tr>\n",
       "      <th>1</th>\n",
       "      <td>1</td>\n",
       "      <td>10 Cloverfield Lane</td>\n",
       "      <td>15000000</td>\n",
       "      <td>108286421</td>\n",
       "      <td>0.0</td>\n",
       "    </tr>\n",
       "    <tr>\n",
       "      <th>2</th>\n",
       "      <td>2</td>\n",
       "      <td>12 Rounds</td>\n",
       "      <td>20000000</td>\n",
       "      <td>17280326</td>\n",
       "      <td>0.0</td>\n",
       "    </tr>\n",
       "    <tr>\n",
       "      <th>3</th>\n",
       "      <td>3</td>\n",
       "      <td>12 Years a Slave</td>\n",
       "      <td>20000000</td>\n",
       "      <td>187000000</td>\n",
       "      <td>1.0</td>\n",
       "    </tr>\n",
       "    <tr>\n",
       "      <th>4</th>\n",
       "      <td>4</td>\n",
       "      <td>127 Hours</td>\n",
       "      <td>18000000</td>\n",
       "      <td>35692920</td>\n",
       "      <td>0.0</td>\n",
       "    </tr>\n",
       "  </tbody>\n",
       "</table>\n",
       "</div>"
      ],
      "text/plain": [
       "   Unnamed: 0                  Film    Budget    Revenue  Novel\n",
       "0           0  (500) Days of Summer   7500000   60722734    0.0\n",
       "1           1   10 Cloverfield Lane  15000000  108286421    0.0\n",
       "2           2             12 Rounds  20000000   17280326    0.0\n",
       "3           3      12 Years a Slave  20000000  187000000    1.0\n",
       "4           4             127 Hours  18000000   35692920    0.0"
      ]
     },
     "execution_count": 29,
     "metadata": {},
     "output_type": "execute_result"
    }
   ],
   "source": [
    "#1 Import the data set \"moveidataset.csv\"\n",
    "import pandas as pd\n",
    "from pathlib import Path, PureWindowsPath\n",
    "movie = pd.read_csv('C:\\\\Users\\Owner\\Documents\\ECO 590\\moviedataset.csv')\n",
    "movie.head()"
   ]
  },
  {
   "cell_type": "code",
   "execution_count": 59,
   "metadata": {},
   "outputs": [
    {
     "name": "stdout",
     "output_type": "stream",
     "text": [
      "The average revenue of the movies that starts with the letter 'S' is 183053896.7798742\n"
     ]
    }
   ],
   "source": [
    "#2 Find out the average revenue for movies that start with the letter \"s\"\n",
    "movie1 = movie[movie['Film'].str[0] == \"S\"] # create a sub dataframe with all the rows in Film that starts with S, name it as movie1\n",
    "movie1\n",
    "print(\"The average revenue of the movies that starts with the letter 'S' is\",movie1[\"Revenue\"].mean())"
   ]
  },
  {
   "cell_type": "code",
   "execution_count": 10,
   "metadata": {},
   "outputs": [
    {
     "name": "stdout",
     "output_type": "stream",
     "text": [
      "A 141851810.38613862\n",
      "B 115126954.2244898\n",
      "C 139677697.8\n",
      "D 144954632.1025641\n",
      "E 107740125.48648648\n",
      "F 191590776.3859649\n",
      "G 171024419.0\n",
      "H 200709787.28333333\n",
      "I 256005429.71153846\n",
      "J 157392149.35135135\n",
      "K 222097121.27272728\n",
      "L 110810060.88235295\n",
      "M 185046766.37373737\n",
      "N 141803391.36842105\n",
      "O 111932473.36\n",
      "P 174440945.0\n",
      "Q 148462543.0\n",
      "R 148406492.39344263\n",
      "S 183053896.7798742\n",
      "T 170073302.4013921\n",
      "U 100198027.30434783\n",
      "V 111626354.28571428\n",
      "W 128565490.6557377\n",
      "X 495568821.0\n",
      "Y 103577446.44444445\n",
      "Z 203026908.125\n"
     ]
    }
   ],
   "source": [
    "#3 Create a for loop that calculates the average earnings for movies that start with each letter of the alphabet\n",
    "import string\n",
    "import pandas as pd\n",
    "alphabet = string.ascii_uppercase # create a string with all the alphabets\n",
    "alphabet = list(alphabet) # change the string into a list with all the alphabets\n",
    "for i in alphabet: # for each letter in the list \"alphabet\"\n",
    "    movie = pd.read_csv('C:\\\\Users\\Owner\\Documents\\ECO 590\\moviedataset.csv') # read the movie data\n",
    "    movie = movie[movie['Film'].str[0] == str(i)] # only keep the movies that start with the letter\n",
    "    print(str(i),str(movie[\"Revenue\"].mean())) # calculate the mean revenue of the movies that start with the letter, print out the result"
   ]
  },
  {
   "cell_type": "code",
   "execution_count": 14,
   "metadata": {},
   "outputs": [
    {
     "name": "stdout",
     "output_type": "stream",
     "text": [
      "L 110810060.88235295\n",
      "M 185046766.37373737\n",
      "N 141803391.36842105\n",
      "O 111932473.36\n",
      "P 174440945.0\n"
     ]
    }
   ],
   "source": [
    "#4\n",
    "alphabet = string.ascii_uppercase # create a string of all alphabets\n",
    "alphabet = list(alphabet) # change the string to a list of all alphabets\n",
    "for i in alphabet[11:16]: # for each letter from letter L to P\n",
    "    movie = pd.read_csv('C:\\\\Users\\Owner\\Documents\\ECO 590\\moviedataset.csv') # read the movie data\n",
    "    movie = movie[movie['Film'].str[0] == str(i)] # only keep the movies that start with the letter\n",
    "    print(str(i),str(movie[\"Revenue\"].mean())) # calculate the mean revenue of the movies that start with the letter"
   ]
  },
  {
   "cell_type": "code",
   "execution_count": 17,
   "metadata": {
    "collapsed": true
   },
   "outputs": [
    {
     "name": "stdout",
     "output_type": "stream",
     "text": [
      "34        A Cinderella Story\n",
      "35       A Cure for Wellness\n",
      "36           A Dog's Purpose\n",
      "37    A Good Day to Die Hard\n",
      "38               A Good Year\n",
      "Name: Film, dtype: object\n",
      "135           Babel\n",
      "136     Baby Driver\n",
      "137       Baby Mama\n",
      "138    Babylon A.D.\n",
      "139     Bad Boys II\n",
      "Name: Film, dtype: object\n",
      "233                   Cabin Fever\n",
      "234                Calendar Girls\n",
      "235      Capitalism: A Love Story\n",
      "236                        Capote\n",
      "237    Captain America: Civil War\n",
      "Name: Film, dtype: object\n",
      "318        Daddy Day Camp\n",
      "319        Daddy Day Care\n",
      "320          Daddy's Home\n",
      "321    Dallas Buyers Club\n",
      "322      Dan in Real Life\n",
      "Name: Film, dtype: object\n",
      "396           Eagle Eye\n",
      "397       Earth to Echo\n",
      "398    Eastern Promises\n",
      "399              Easy A\n",
      "400       Eat Pray Love\n",
      "Name: Film, dtype: object\n",
      "433      Fahrenheit 9/11\n",
      "434    Failure to Launch\n",
      "435       Fantastic Four\n",
      "436       Fantastic Four\n",
      "437    Fantastic Mr. Fox\n",
      "Name: Film, dtype: object\n",
      "490                        G-Force\n",
      "491          G.I. Joe: Retaliation\n",
      "492    G.I. Joe: The Rise of Cobra\n",
      "493                          Gamer\n",
      "494              Gangs of New York\n",
      "Name: Film, dtype: object\n",
      "534              Hacksaw Ridge\n",
      "535              Hail, Caesar!\n",
      "536                  Hall Pass\n",
      "537    Halloween: Resurrection\n",
      "538                    Hancock\n",
      "Name: Film, dtype: object\n",
      "594                     I Am Legend\n",
      "595                I Am Number Four\n",
      "596    I Don't Know How She Does It\n",
      "597            I Know Who Killed Me\n",
      "598                 I Love You, Man\n",
      "Name: Film, dtype: object\n",
      "646                       J. Edgar\n",
      "647                   Jack Reacher\n",
      "648    Jack Reacher: Never Go Back\n",
      "649      Jack Ryan: Shadow Recruit\n",
      "650                  Jack and Jill\n",
      "Name: Film, dtype: object\n",
      "683           K-19: The Widowmaker\n",
      "684         Katy Perry: Part of Me\n",
      "685                          Keanu\n",
      "686    Keeping Up with the Joneses\n",
      "687                       Kick-Ass\n",
      "Name: Film, dtype: object\n",
      "705           La La Land\n",
      "706            Labor Day\n",
      "707            Ladder 49\n",
      "708    Lady in the Water\n",
      "709     Lakeview Terrace\n",
      "Name: Film, dtype: object\n",
      "756             MacGruber\n",
      "757               Machete\n",
      "758         Machete Kills\n",
      "759    Mad Max: Fury Road\n",
      "760            Madagascar\n",
      "Name: Film, dtype: object\n",
      "855          Nacho Libre\n",
      "856         Nanny McPhee\n",
      "857    Napoleon Dynamite\n",
      "858                 Narc\n",
      "859    National Treasure\n",
      "Name: Film, dtype: object\n",
      "893            Oblivion\n",
      "894            Obsessed\n",
      "895    Ocean's Thirteen\n",
      "896      Ocean's Twelve\n",
      "897              Oculus\n",
      "Name: Film, dtype: object\n",
      "918    P.S. I Love You\n",
      "919                 P2\n",
      "920        Pacific Rim\n",
      "921         Paddington\n",
      "922                Pan\n",
      "Name: Film, dtype: object\n",
      "986      Quantum of Solace\n",
      "987             Quarantine\n",
      "988                Quartet\n",
      "989         Queen of Katwe\n",
      "990    Queen of the Damned\n",
      "Name: Film, dtype: object\n",
      "991                  R.I.P.D.\n",
      "992                        RV\n",
      "993    Race to Witch Mountain\n",
      "994            Racing Stripes\n",
      "995                     Radio\n",
      "Name: Film, dtype: object\n",
      "1052      S.W.A.T.\n",
      "1053    Safe Haven\n",
      "1054    Safe House\n",
      "1055        Sahara\n",
      "1056          Salt\n",
      "Name: Film, dtype: object\n",
      "1211                    TMNT\n",
      "1212                Table 19\n",
      "1213    Take Me Home Tonight\n",
      "1214           Take the Lead\n",
      "1215                   Taken\n",
      "Name: Film, dtype: object\n",
      "1642                   U2 3D\n",
      "1643             Ultraviolet\n",
      "1644                Unbroken\n",
      "1645    Under the Tuscan Sun\n",
      "1646      Undercover Brother\n",
      "Name: Film, dtype: object\n",
      "1665                                 V for Vendetta\n",
      "1666                                        Vacancy\n",
      "1667                                       Vacation\n",
      "1668                                Valentine's Day\n",
      "1669    Valerian and the City of a Thousand Planets\n",
      "Name: Film, dtype: object\n",
      "1679                                W.\n",
      "1680                        Waiting...\n",
      "1681                          Waitress\n",
      "1682    Walk Hard: The Dewey Cox Story\n",
      "1683                     Walk the Line\n",
      "Name: Film, dtype: object\n",
      "1740      X-Men Origins: Wolverine\n",
      "1741             X-Men: Apocalypse\n",
      "1742    X-Men: Days of Future Past\n",
      "1743            X-Men: First Class\n",
      "1744         X-Men: The Last Stand\n",
      "Name: Film, dtype: object\n",
      "1745                         Year One\n",
      "1746                          Yes Man\n",
      "1747                        Yogi Bear\n",
      "1748                        You Again\n",
      "1749    You Don't Mess with the Zohan\n",
      "Name: Film, dtype: object\n",
      "1754    Zack and Miri Make a Porno\n",
      "1755              Zero Dark Thirty\n",
      "1756                        Zodiac\n",
      "1757                    Zombieland\n",
      "1758                     Zookeeper\n",
      "Name: Film, dtype: object\n"
     ]
    }
   ],
   "source": [
    "#5 Write a for loop that prints out the first five movies of each letter of the alphabet. Use a nested loop.\n",
    "import string\n",
    "import pandas as pd\n",
    "alphabet = string.ascii_uppercase # create a list of all alphabets\n",
    "alphabet = list(alphabet)\n",
    "for i in alphabet: # for each letter in the list alphabet\n",
    "    movie = pd.read_csv('C:\\\\Users\\Owner\\Documents\\ECO 590\\moviedataset.csv') # read the movie data\n",
    "    movie = movie[movie['Film'].str[0] == str(i)] # only keep movies that start with the letter\n",
    "    print(movie[\"Film\"].head(5)) # show the first 5 observations in the movies that start with the letter"
   ]
  },
  {
   "cell_type": "code",
   "execution_count": 25,
   "metadata": {},
   "outputs": [
    {
     "name": "stdout",
     "output_type": "stream",
     "text": [
      "On average, the revenue for movies turned in to novels is 22046820.0 more than movies that did not turn into novels.\n"
     ]
    }
   ],
   "source": [
    "#6 What is the difference in average movie earnings between movies that were turned into a novel compared to movies that were not turned into a novel\n",
    "import pandas as pd\n",
    "movie = pd.read_csv('C:\\\\Users\\Owner\\Documents\\ECO 590\\moviedataset.csv') # read the movie data\n",
    "# create a new dataframe called movie1, in which I grouped the movie datasets by \"Novel\", and calculate the mean when Novel = 1 and Novel = 0.\n",
    "# Because the result is presented in scientific notation, I used the round function to turn off the scientific notation.\n",
    "movie1 = movie[[\"Novel\",\"Revenue\"]].groupby(['Novel']).mean().reset_index().round(0)\n",
    "# movie1.loc select the value in Revenue in which Novel = 1 and Novel = 0. I took the difference and store in \"average\"\n",
    "average = movie1.loc[1,\"Revenue\"] - movie1.loc[0,\"Revenue\"]\n",
    "# printing out the answer\n",
    "print(\"On average, the revenue for movies turned in to novels is\", average, \"more than movies that did not turn into novels.\")"
   ]
  },
  {
   "cell_type": "code",
   "execution_count": 30,
   "metadata": {},
   "outputs": [
    {
     "data": {
      "text/html": [
       "<div>\n",
       "<style scoped>\n",
       "    .dataframe tbody tr th:only-of-type {\n",
       "        vertical-align: middle;\n",
       "    }\n",
       "\n",
       "    .dataframe tbody tr th {\n",
       "        vertical-align: top;\n",
       "    }\n",
       "\n",
       "    .dataframe thead th {\n",
       "        text-align: right;\n",
       "    }\n",
       "</style>\n",
       "<table border=\"1\" class=\"dataframe\">\n",
       "  <thead>\n",
       "    <tr style=\"text-align: right;\">\n",
       "      <th></th>\n",
       "      <th>Unnamed: 0</th>\n",
       "      <th>Film</th>\n",
       "      <th>Budget</th>\n",
       "      <th>Revenue</th>\n",
       "      <th>Novel</th>\n",
       "      <th>Revenue Over Budget</th>\n",
       "    </tr>\n",
       "  </thead>\n",
       "  <tbody>\n",
       "    <tr>\n",
       "      <th>0</th>\n",
       "      <td>0</td>\n",
       "      <td>(500) Days of Summer</td>\n",
       "      <td>7500000</td>\n",
       "      <td>60722734</td>\n",
       "      <td>0.0</td>\n",
       "      <td>8.096365</td>\n",
       "    </tr>\n",
       "    <tr>\n",
       "      <th>1</th>\n",
       "      <td>1</td>\n",
       "      <td>10 Cloverfield Lane</td>\n",
       "      <td>15000000</td>\n",
       "      <td>108286421</td>\n",
       "      <td>0.0</td>\n",
       "      <td>7.219095</td>\n",
       "    </tr>\n",
       "    <tr>\n",
       "      <th>2</th>\n",
       "      <td>2</td>\n",
       "      <td>12 Rounds</td>\n",
       "      <td>20000000</td>\n",
       "      <td>17280326</td>\n",
       "      <td>0.0</td>\n",
       "      <td>0.864016</td>\n",
       "    </tr>\n",
       "    <tr>\n",
       "      <th>3</th>\n",
       "      <td>3</td>\n",
       "      <td>12 Years a Slave</td>\n",
       "      <td>20000000</td>\n",
       "      <td>187000000</td>\n",
       "      <td>1.0</td>\n",
       "      <td>9.350000</td>\n",
       "    </tr>\n",
       "    <tr>\n",
       "      <th>4</th>\n",
       "      <td>4</td>\n",
       "      <td>127 Hours</td>\n",
       "      <td>18000000</td>\n",
       "      <td>35692920</td>\n",
       "      <td>0.0</td>\n",
       "      <td>1.982940</td>\n",
       "    </tr>\n",
       "  </tbody>\n",
       "</table>\n",
       "</div>"
      ],
      "text/plain": [
       "   Unnamed: 0                  Film    Budget    Revenue  Novel  \\\n",
       "0           0  (500) Days of Summer   7500000   60722734    0.0   \n",
       "1           1   10 Cloverfield Lane  15000000  108286421    0.0   \n",
       "2           2             12 Rounds  20000000   17280326    0.0   \n",
       "3           3      12 Years a Slave  20000000  187000000    1.0   \n",
       "4           4             127 Hours  18000000   35692920    0.0   \n",
       "\n",
       "   Revenue Over Budget  \n",
       "0             8.096365  \n",
       "1             7.219095  \n",
       "2             0.864016  \n",
       "3             9.350000  \n",
       "4             1.982940  "
      ]
     },
     "execution_count": 30,
     "metadata": {},
     "output_type": "execute_result"
    }
   ],
   "source": [
    "#7 Create a new variable (name it whatever you want) the is the ratio of revenue over budget.\n",
    "# read the movie data\n",
    "movie2 = pd.read_csv('C:\\\\Users\\Owner\\Documents\\ECO 590\\moviedataset.csv')\n",
    "# create a new column called \"Revenue Over Budget\", in which I divided each observation in the column Revenue by the column Budget.\n",
    "movie2[\"Revenue Over Budget\"] = movie2[\"Revenue\"] / movie2[\"Budget\"]\n",
    "# show the first 5 observation in the dataframe with the new column. \n",
    "movie2.head()"
   ]
  },
  {
   "cell_type": "code",
   "execution_count": 32,
   "metadata": {},
   "outputs": [],
   "source": [
    "#8 Export your new dataset into your repo folder with the name \"newmovieds.csv\"\n",
    "movie2.to_csv(\"movie_Assignment1.csv\")"
   ]
  },
  {
   "cell_type": "markdown",
   "metadata": {},
   "source": [
    "Source:    \n",
    "Select the rows based on the first letter: https://stackoverflow.com/questions/35552874/get-first-letter-of-a-string-from-column     \n",
    "Create a list of alphabet: https://www.kite.com/python/answers/how-to-make-a-list-of-the-alphabet-in-python   \n",
    "loc function: https://pandas.pydata.org/docs/reference/api/pandas.DataFrame.loc.html    \n",
    "exporting dataframes: \n",
    "https://medium.com/@kasiarachuta/importing-and-exporting-csv-files-in-python-7fa6e4d9f408"
   ]
  }
 ],
 "metadata": {
  "kernelspec": {
   "display_name": "Python 3",
   "language": "python",
   "name": "python3"
  },
  "language_info": {
   "codemirror_mode": {
    "name": "ipython",
    "version": 3
   },
   "file_extension": ".py",
   "mimetype": "text/x-python",
   "name": "python",
   "nbconvert_exporter": "python",
   "pygments_lexer": "ipython3",
   "version": "3.8.3"
  }
 },
 "nbformat": 4,
 "nbformat_minor": 4
}
