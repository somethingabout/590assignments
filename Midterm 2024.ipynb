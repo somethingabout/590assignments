{
 "cells": [
  {
   "cell_type": "markdown",
   "metadata": {},
   "source": [
    "## Midterm\n",
    "\n",
    "1. No internet is allowed; if you use it, it's an automatic 0 for the midterm.\n",
    "2. You will all get a link via github classroom, download the exam and then turn off the internet.\n",
    "3. When you are done, let me know and you can turn on the internet (with me) to upload the exam.\n",
    "4. Bonus points are given for efficient code."
   ]
  },
  {
   "cell_type": "markdown",
   "metadata": {},
   "source": [
    "1. Identify the lists below. If they are a list, explain how you know this (syntax or function that you used). If it is not a list, tell me what it is and explain how you know this.\n",
    "\n",
    "a. `np.max()`\n",
    "\n",
    "b. `print(['hello', 67, 85, '25'])`\n",
    "\n",
    "c. `['fall','spring','summer','winter']`\n",
    "\n",
    "d. `{'a':1, 'b':2, 'c': 3, 'd':4, 'e':5, 'g':6}`\n",
    "\n",
    "e. `[[1,45],[56,89],[88,45]]`\n",
    "\n",
    "f. `('August','September', 'October','November','December')`"
   ]
  },
  {
   "cell_type": "code",
   "execution_count": null,
   "metadata": {},
   "outputs": [],
   "source": []
  },
  {
   "cell_type": "markdown",
   "metadata": {},
   "source": [
    "2. Import the dataset \"broadwaydata.csv\" and assign it to the variable called \"data\""
   ]
  },
  {
   "cell_type": "code",
   "execution_count": null,
   "metadata": {},
   "outputs": [],
   "source": []
  },
  {
   "cell_type": "markdown",
   "metadata": {},
   "source": [
    "3a. Calculate the average number of Tonys and average price by original and revival.  \n",
    "\n",
    "3b. Calculate the difference in the average price.\n",
    "\n",
    "3c. Transform the column average price into a new column that is the log of average price"
   ]
  },
  {
   "cell_type": "code",
   "execution_count": null,
   "metadata": {},
   "outputs": [],
   "source": []
  },
  {
   "cell_type": "markdown",
   "metadata": {},
   "source": [
    "4. What is the minimum, maximum, average, median, and standard deviation of attendance for broadway musicals? "
   ]
  },
  {
   "cell_type": "code",
   "execution_count": null,
   "metadata": {},
   "outputs": [],
   "source": []
  },
  {
   "cell_type": "markdown",
   "metadata": {},
   "source": [
    "5. Filter the data set so that you have a dataframe that only has musicals with gross revenue between 340000 and 890000\n"
   ]
  },
  {
   "cell_type": "code",
   "execution_count": null,
   "metadata": {},
   "outputs": [],
   "source": []
  },
  {
   "cell_type": "markdown",
   "metadata": {},
   "source": [
    "6. Write a for loop that counts the number of broadway musicals that are in each letter of the alphabet excluding the letter 'H'. \n",
    "\n",
    "\n",
    "Bonus: Do this with list comprehension that puts this list in a list. Extra bonus if you use regex."
   ]
  },
  {
   "cell_type": "code",
   "execution_count": null,
   "metadata": {},
   "outputs": [],
   "source": []
  },
  {
   "cell_type": "markdown",
   "metadata": {},
   "source": [
    "7. Write a while loop that calculates the sum of a number for 5 numbers at a time (ie 1+2+3+4+5, 6+7+8+9+10) until you reach 50. "
   ]
  },
  {
   "cell_type": "code",
   "execution_count": null,
   "metadata": {},
   "outputs": [],
   "source": []
  }
 ],
 "metadata": {
  "kernelspec": {
   "display_name": "Python 3",
   "language": "python",
   "name": "python3"
  },
  "language_info": {
   "codemirror_mode": {
    "name": "ipython",
    "version": 3
   },
   "file_extension": ".py",
   "mimetype": "text/x-python",
   "name": "python",
   "nbconvert_exporter": "python",
   "pygments_lexer": "ipython3",
   "version": "3.8.5"
  }
 },
 "nbformat": 4,
 "nbformat_minor": 4
}
