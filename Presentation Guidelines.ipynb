{
 "cells": [
  {
   "cell_type": "markdown",
   "metadata": {},
   "source": [
    "# Presentation Guidelines\n",
    "\n",
    "\n",
    "You will have **10 minutes** to present your project. Be sure to go over these aspects:\n",
    "\n",
    "1. Describe Your research question and how the variables you collected tried to answer that question.\n",
    "2. Describe the process that you collected your data.\n",
    "    - IF you used an API, go over the documentation and how you were able to figure out the data you wanted to collect. What was the documentation like? Was it easy or difficult to understand? What were the steps that you took to understand it?\n",
    "    - IF you webscraped, explain how you found the information you collected. What tags did you use? How did you find the website you used?\n",
    "3. Discuss the new variables that you created (either from using the API data or the webscraped data).\n",
    "4. Share graphs that describe your data - what did you find interesting from your exploration of the data? Share at least 2 graphs.\n",
    "5. Share your regression results. Interpret your coefficients without the word unit. What general conclusions can you draw (most will be correlations)?  "
   ]
  },
  {
   "cell_type": "code",
   "execution_count": null,
   "metadata": {},
   "outputs": [],
   "source": []
  }
 ],
 "metadata": {
  "kernelspec": {
   "display_name": "Python 3",
   "language": "python",
   "name": "python3"
  },
  "language_info": {
   "codemirror_mode": {
    "name": "ipython",
    "version": 3
   },
   "file_extension": ".py",
   "mimetype": "text/x-python",
   "name": "python",
   "nbconvert_exporter": "python",
   "pygments_lexer": "ipython3",
   "version": "3.8.5"
  }
 },
 "nbformat": 4,
 "nbformat_minor": 2
}
