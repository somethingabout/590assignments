{
 "cells": [
  {
   "cell_type": "markdown",
   "metadata": {},
   "source": [
    "# Weekly Task 2 \n",
    "![huh](https://media.giphy.com/media/RLUyfJnogtXK44pm9t/giphy.gif?cid=ecf05e47n1wqag34fii52sbyus99aoucjf8sfl1e5uftwp2k&rid=giphy.gif&ct=g)"
   ]
  },
  {
   "cell_type": "markdown",
   "metadata": {},
   "source": [
    "Remember the rules of ~Fight~ Code Club:\n",
    "1. ALWAYS DOCUMENT\n",
    "2. Cite resources that you use (paste links)\n",
    "3. Include the names people who you worked with\n",
    "4. Be neat and organized"
   ]
  },
  {
   "cell_type": "markdown",
   "metadata": {},
   "source": [
    "### 1. Create a list of 10 countries. \n",
    "\n",
    "### Assign that to a variable."
   ]
  },
  {
   "cell_type": "code",
   "execution_count": null,
   "metadata": {},
   "outputs": [],
   "source": []
  },
  {
   "cell_type": "markdown",
   "metadata": {},
   "source": [
    "### 2. Create a dictionary that maps those 10 countries to their capitols. make the keys the country and the values the capitols.\n",
    "\n",
    "### Assign that to a different variable."
   ]
  },
  {
   "cell_type": "code",
   "execution_count": null,
   "metadata": {},
   "outputs": [],
   "source": []
  },
  {
   "cell_type": "markdown",
   "metadata": {},
   "source": [
    "### 3. Add another country to the dictionary you created in question 2"
   ]
  },
  {
   "cell_type": "code",
   "execution_count": null,
   "metadata": {},
   "outputs": [],
   "source": []
  },
  {
   "cell_type": "markdown",
   "metadata": {},
   "source": [
    "### 4. Slice your country *list* so that it reveals items in position 3 through 8."
   ]
  },
  {
   "cell_type": "code",
   "execution_count": null,
   "metadata": {},
   "outputs": [],
   "source": []
  },
  {
   "cell_type": "markdown",
   "metadata": {},
   "source": [
    "### 5.  Write a for loop that loops through your list of countries and does the following operations:\n",
    "### 1. If that country starts with the letter c, it prints the name of that country\n",
    "### 2. otherwise it adds 1 to a variable called \"count\""
   ]
  },
  {
   "cell_type": "code",
   "execution_count": null,
   "metadata": {},
   "outputs": [],
   "source": []
  }
 ],
 "metadata": {
  "kernelspec": {
   "display_name": "Python 3",
   "language": "python",
   "name": "python3"
  },
  "language_info": {
   "codemirror_mode": {
    "name": "ipython",
    "version": 3
   },
   "file_extension": ".py",
   "mimetype": "text/x-python",
   "name": "python",
   "nbconvert_exporter": "python",
   "pygments_lexer": "ipython3",
   "version": "3.8.5"
  }
 },
 "nbformat": 4,
 "nbformat_minor": 4
}
