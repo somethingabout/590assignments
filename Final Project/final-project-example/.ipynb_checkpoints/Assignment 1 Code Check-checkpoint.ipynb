{
 "cells": [
  {
   "cell_type": "markdown",
   "metadata": {},
   "source": [
    "![](https://media.giphy.com/media/ccRMvuh3PeuSGgOWVx/giphy.gif)"
   ]
  },
  {
   "cell_type": "markdown",
   "metadata": {},
   "source": [
    "Remember the rules of ~Fight~ Code Club:\n",
    "1. ALWAYS DOCUMENT\n",
    "2. Cite resources that you use (paste links)\n",
    "3. Include the names people who you worked with\n",
    "4. Be neat and organized"
   ]
  },
  {
   "cell_type": "markdown",
   "metadata": {},
   "source": [
    "# Question 1\n",
    "Identify the lists below. If they are a list, explain how you know this (syntax or function that you used). If it is not a list, tell me what it is and explain how you know this.\n",
    "\n",
    "1. `np.std()`\n",
    "2. `print(['hello', 67, 85, '25'])`\n",
    "3. `['fall','spring','summer','winter']`\n",
    "4. `{'a':1, 'b':2, 'c': 3, 'd':4, 'e':5, 'g':6}`\n",
    "5. `[[1,45],[56,89],[88,45]]`\n",
    "6. `('August','September', 'October','November','December')`"
   ]
  },
  {
   "cell_type": "code",
   "execution_count": null,
   "metadata": {},
   "outputs": [],
   "source": []
  },
  {
   "cell_type": "markdown",
   "metadata": {},
   "source": [
    "## Question 2\n",
    "\n",
    "1. Write a python script that prints 'even' for every even number \n",
    "2. and creates a new list of even numbers (using list comprehension)\n",
    "\n",
    "using the series: [1,2,3,7,9,34,56,70,90,123,136,148,156] "
   ]
  },
  {
   "cell_type": "code",
   "execution_count": null,
   "metadata": {},
   "outputs": [],
   "source": []
  },
  {
   "cell_type": "markdown",
   "metadata": {},
   "source": [
    "## Question 3\n",
    "\n",
    "Write a script that skips vowels from the following string: \"Python is for everyone!\"\n",
    "\n",
    "Be sure that this outputs in one string or list in one line."
   ]
  },
  {
   "cell_type": "code",
   "execution_count": null,
   "metadata": {},
   "outputs": [],
   "source": []
  },
  {
   "cell_type": "markdown",
   "metadata": {},
   "source": [
    "## Question 4\n",
    "\n",
    "Use a numpy function that randomly generates numbers in an array that has the shape(8,8)"
   ]
  },
  {
   "cell_type": "code",
   "execution_count": null,
   "metadata": {},
   "outputs": [],
   "source": []
  },
  {
   "cell_type": "markdown",
   "metadata": {},
   "source": [
    "## Question 5\n",
    "Using the following arrays:\n",
    "\n",
    "a = np.array([45,86,78,300,586,686,486,794,486,58,77,93,55,83,136])\n",
    "\n",
    "b = np.array([45,67,239,555,597,264,908,562,44,58,39,57,62,58,224])\n",
    "\n",
    "Write a python code using **numpy** that:\n",
    "   1. calculates the difference between the minimum and maximum number for each earray\n",
    "   2. calculates the 75th percentile for each array\n",
    "   3. calculates the mean and standard deviation for each array\n",
    "   4. calculates the correlation coefficient between the two arrays\n",
    "    \n",
    "Please document what those numbers are in your answer. \n",
    "\n",
    "Hint: the functions for these statistics can easily be found in the lecture slides and any reference guide to python"
   ]
  },
  {
   "cell_type": "code",
   "execution_count": null,
   "metadata": {},
   "outputs": [],
   "source": []
  },
  {
   "cell_type": "markdown",
   "metadata": {},
   "source": [
    "## Question 6\n",
    "\n",
    "1. Import the data set \"moveidataset.csv\"\n",
    "2. Find out the average revenue for movies that start with the letter \"s\"\n",
    "3. Create a for loop that calculates the average earnings for movies that start with each letter of the alphabet (ie average for movies that start with a, average for movies that start in b).  Make sure the averages are stored in one list.\n",
    "4. Slice the above list so that you show the average earnings for movies that start with the letter l through p.\n",
    "5. Write a for loop that prints out the first five movies of each letter of the alphabet. Use a nested loop.\n",
    "6. What is the difference in average movie earnings between movies that were turned into a novel compared to movies that were note turned into a novel (ie a movie that that was turned into novel is where novel = 1)?\n",
    "7. Create a new variable (name it whatever you want) the is the ratio of revenue over budget.\n",
    "8. Export your new dataset into your repo folder with the name \"newmovieds.csv\""
   ]
  },
  {
   "cell_type": "code",
   "execution_count": null,
   "metadata": {},
   "outputs": [],
   "source": []
  }
 ],
 "metadata": {
  "kernelspec": {
   "display_name": "Python 3",
   "language": "python",
   "name": "python3"
  },
  "language_info": {
   "codemirror_mode": {
    "name": "ipython",
    "version": 3
   },
   "file_extension": ".py",
   "mimetype": "text/x-python",
   "name": "python",
   "nbconvert_exporter": "python",
   "pygments_lexer": "ipython3",
   "version": "3.8.5"
  }
 },
 "nbformat": 4,
 "nbformat_minor": 4
}
