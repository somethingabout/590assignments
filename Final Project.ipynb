{
 "cells": [
  {
   "cell_type": "markdown",
   "metadata": {},
   "source": [
    "# Final Project Guidelines\n",
    "\n",
    "1. You must submit your code for Python and R (Either jupyter and R markdown or just 2 jupyter notebooks).\n",
    "2. Put your name as the title of the file AND what type of notebook it is.\n",
    "3. By running your notebooks, I must be able to reproduce your data files, your graphs, and your regression tables. Graphs, Tables and your final new dataset (CSV) should be exported (when I run the notebook, it should produce new files).\n",
    "4. You must document your notebook and provide links to resources you used outside of the lecture notes.\n",
    "5. The goal is to see improvement in your code - you will be graded on the efficiency of your code - both in terms of your use of automating code (such as using efficient for loops or implementing pandas appropriately (not all for loops are efficient)) and brevity (less lines of code to do the same task).\n",
    "6. You must be able to create all of your work within python and/or R. You can't export a file, do it in excel, and then import it back. (You can import a csv file with external data to then merge with your other collected data).\n",
    "7. You will be graded on the clarity and organization of your notebooks. You need to integrate Markdown to distinguish separate sections and include a discussion within each section - do not just usin commented out areas (ie #). Commented out areas is reserved for documentation of the code.\n",
    "8. Make it easy for me to run. When you are pulling in new files to merge, be sure to have a path area for me to put my own path name. This can be done a few ways, but here are some examples:\n",
    "\n",
    "BE CONSISTENT. Use one option only\n",
    "\n",
    "One option:\n",
    "\n",
    "```\n",
    "cd \"set/file/name\"\n",
    "df = read_csv(\"filname.csv\")\n",
    "```\n",
    "\n",
    "Another option\n",
    "```\n",
    "path = \"set/path/name\"\n",
    "df = read_csv(path+\"filname.csv\")\n",
    "\n",
    "```\n",
    "\n",
    "\n",
    "\n"
   ]
  },
  {
   "cell_type": "markdown",
   "metadata": {},
   "source": [
    "## Your Notebooks should consist of:\n",
    "\n",
    "Part 1: Webscraped/API - include a broad explanation on how the API/webscrape works. Include evidence from the website or API that help explain this process (the API's documentation, how you figured out the website to webscrape, etc).\n",
    "\n",
    "Part 2: Data Cleaning - discuss hurdles and specific data issues you faced in cleaning the dataset. \n",
    "\n",
    "Part 3: Graphs - include all of your graphs - you should have at least 3 and be sure it can be exported when running the code. Include a description of what your graphs mean and what insights you learned from the graphs. Your graphs must not be reproducing the same data in a different visualization format. You can't have the same information presented in a bar graph and a line graph. Each graph must contain new insights. \n",
    "\n",
    "Part 4: Regressions - include the finalized tables and be sure it can be exported. Be sure to include a description about what this means in your exploratory analysis, and what would you like to improve to understand your research question in more depth? \n"
   ]
  },
  {
   "cell_type": "markdown",
   "metadata": {},
   "source": [
    "## Other Considerations:\n",
    "\n",
    "1. I will be looking for improvements in your code - especially in regards to your API and data cleaning sections.\n",
    "2. For graphs/regression tables they should be publishable quality - all titles, labels, and legends should be appropriately placed, it should be clearly visible, and variables shouldn't have any underscores or other symbols unless necessary and words should be capitalized as necessary. Overall, I should be able to put your work in a magazine and the editor would be happy.\n",
    "\n"
   ]
  },
  {
   "cell_type": "markdown",
   "metadata": {},
   "source": [
    "### Research should be reproducible - documenting and having neat notebooks for others to work from is integral to scientific progress."
   ]
  }
 ],
 "metadata": {
  "kernelspec": {
   "display_name": "Python 3",
   "language": "python",
   "name": "python3"
  },
  "language_info": {
   "codemirror_mode": {
    "name": "ipython",
    "version": 3
   },
   "file_extension": ".py",
   "mimetype": "text/x-python",
   "name": "python",
   "nbconvert_exporter": "python",
   "pygments_lexer": "ipython3",
   "version": "3.8.5"
  }
 },
 "nbformat": 4,
 "nbformat_minor": 4
}
