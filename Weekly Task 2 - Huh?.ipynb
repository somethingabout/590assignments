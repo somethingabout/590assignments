{
 "cells": [
  {
   "cell_type": "markdown",
   "metadata": {},
   "source": [
    "# Weekly Task 2 \n",
    "![huh](https://media.giphy.com/media/RLUyfJnogtXK44pm9t/giphy.gif?cid=ecf05e47n1wqag34fii52sbyus99aoucjf8sfl1e5uftwp2k&rid=giphy.gif&ct=g)"
   ]
  },
  {
   "cell_type": "markdown",
   "metadata": {},
   "source": [
    "Remember the rules of ~Fight~ Code Club:\n",
    "1. ALWAYS DOCUMENT\n",
    "2. Cite resources that you use (paste links)\n",
    "3. Include the names people who you worked with\n",
    "4. Be neat and organized"
   ]
  },
  {
   "attachments": {},
   "cell_type": "markdown",
   "metadata": {},
   "source": []
  },
  {
   "cell_type": "markdown",
   "metadata": {},
   "source": [
    "### 1. Create a list of 10 countries. \n",
    "\n",
    "### Assign that to a variable."
   ]
  },
  {
   "cell_type": "code",
   "execution_count": null,
   "metadata": {},
   "outputs": [],
   "source": [
    "Country_List=['Germany', 'Canada', 'Lebanon', 'Egypt', 'Italy', 'China', 'Brazil', 'Turkey', 'Peru', 'Cuba']"
   ]
  },
  {
   "attachments": {},
   "cell_type": "markdown",
   "metadata": {},
   "source": [
    "PROMPT 2\n",
    "\n",
    "I just created a list of my 10 countries. I named this list \"Country_List.\" I let python know it was a list of strings by using brackets and apostrophes.\n",
    "\n",
    "Now, I will create a dictionary and map those countries to their capitols. This can be achieved by the command \"Dict =\" and the use of curly brackets. The keys will be the countries, and their capitols will be the values."
   ]
  },
  {
   "cell_type": "markdown",
   "metadata": {},
   "source": [
    "### 2. Create a dictionary that maps those 10 countries to their capitols. make the keys are the country and the values are the capitols.\n",
    "\n",
    "### Assign that to a different variable."
   ]
  },
  {
   "cell_type": "code",
   "execution_count": null,
   "metadata": {},
   "outputs": [],
   "source": [
    "dict = {'Germany':'Berlin', 'Canada':'Ottawa', 'Lebanon':'Beirut', 'Egypt':'Cairo', 'Italy':'Rome', 'China':'Beijing', 'Brazil':'Brasilia', 'Turkey':'Ankara', 'Peru':'Lima', 'Cuba':'Havana'}"
   ]
  },
  {
   "cell_type": "code",
   "execution_count": null,
   "metadata": {},
   "outputs": [],
   "source": [
    "Country_Capitols = Country_List"
   ]
  },
  {
   "cell_type": "code",
   "execution_count": null,
   "metadata": {},
   "outputs": [],
   "source": [
    "Country_Capitols"
   ]
  },
  {
   "cell_type": "markdown",
   "metadata": {},
   "source": [
    "I believe I might have misinterpreted the prompt, I will now revert Country_Capitols to it's original name, and assign the dictionary to that variable."
   ]
  },
  {
   "cell_type": "code",
   "execution_count": null,
   "metadata": {
    "vscode": {
     "languageId": "plaintext"
    }
   },
   "outputs": [],
   "source": [
    "Country_List = Country_Capitols"
   ]
  },
  {
   "attachments": {},
   "cell_type": "markdown",
   "metadata": {},
   "source": [
    "Country_List"
   ]
  },
  {
   "cell_type": "code",
   "execution_count": null,
   "metadata": {},
   "outputs": [],
   "source": [
    "Country_Capitols = dict"
   ]
  },
  {
   "cell_type": "code",
   "execution_count": null,
   "metadata": {},
   "outputs": [],
   "source": [
    "Country_Capitols"
   ]
  },
  {
   "attachments": {},
   "cell_type": "markdown",
   "metadata": {},
   "source": [
    "PROMPT 3\n",
    "\n",
    "Now, I will add another Country and It's capitol to the list. To do this, I will need to add another country to the list, and then map it to a value- it's Capitol."
   ]
  },
  {
   "cell_type": "markdown",
   "metadata": {},
   "source": [
    "### 3. Add another country to the dictionary you created in question 2"
   ]
  },
  {
   "cell_type": "code",
   "execution_count": null,
   "metadata": {},
   "outputs": [],
   "source": [
    "Country_List=['Germany', 'Canada', 'Lebanon', 'Egypt', 'Italy', 'China', 'Brazil', 'Turkey', 'Peru', 'Cuba', 'Poland']"
   ]
  },
  {
   "cell_type": "code",
   "execution_count": null,
   "metadata": {},
   "outputs": [],
   "source": [
    "Country_Capitols = {'Germany':'Berlin', 'Canada':'Ottawa', 'Lebanon':'Beirut', 'Egypt':'Cairo', 'Italy':'Rome', 'China':'Beijing', 'Brazil':'Brasilia', 'Turkey':'Ankara', 'Peru':'Lima', 'Cuba':'Havana', 'Poland': 'Warsaw'}"
   ]
  },
  {
   "cell_type": "code",
   "execution_count": null,
   "metadata": {},
   "outputs": [],
   "source": [
    "Country_Capitols"
   ]
  },
  {
   "cell_type": "markdown",
   "metadata": {},
   "source": [
    "### 4. Slice your country *list* so that it reveals items in position 3 through 8."
   ]
  },
  {
   "cell_type": "code",
   "execution_count": null,
   "metadata": {},
   "outputs": [],
   "source": [
    "print(Country_List[3:8])"
   ]
  },
  {
   "attachments": {},
   "cell_type": "markdown",
   "metadata": {},
   "source": [
    "I used the command \"print\" to slice my country list to reveal the items in positions 3 through 8."
   ]
  },
  {
   "attachments": {},
   "cell_type": "markdown",
   "metadata": {},
   "source": [
    "PROMPT 5\n",
    "\n",
    "I will now create a second country list that has atleast a couple similarities with my first one."
   ]
  },
  {
   "cell_type": "markdown",
   "metadata": {},
   "source": [
    "### 5.\n",
    "### A. Create a second country list (that is not identical to the one in Q4).\n",
    "### B. Use the appropriate operator to find the common elements between the list in Q4 and Q5A."
   ]
  },
  {
   "cell_type": "code",
   "execution_count": null,
   "metadata": {},
   "outputs": [],
   "source": [
    "Country_List2=[ 'Australia', 'Thailand', 'India', 'Pakistan', 'Angola', 'Uganda', 'Canada', 'Lebanon', 'Turkey', 'Peru']"
   ]
  },
  {
   "cell_type": "code",
   "execution_count": null,
   "metadata": {},
   "outputs": [],
   "source": [
    "Country_List"
   ]
  },
  {
   "cell_type": "code",
   "execution_count": null,
   "metadata": {},
   "outputs": [],
   "source": [
    "Country_List2"
   ]
  },
  {
   "cell_type": "code",
   "execution_count": null,
   "metadata": {},
   "outputs": [],
   "source": [
    "Country_List == Country_List2"
   ]
  },
  {
   "cell_type": "markdown",
   "metadata": {},
   "source": [
    "I will now use a command I found on this website https://java2blog.com/find-common-elements-in-two-lists-python/#:~:text=Using%20%26%20Operator-,Using%20the%20intersection()%20Function,are%20common%20in%20two%20sets. to create a new variable that contains the common elements from Country_List & Country_List2."
   ]
  },
  {
   "cell_type": "code",
   "execution_count": null,
   "metadata": {
    "vscode": {
     "languageId": "plaintext"
    }
   },
   "outputs": [],
   "source": [
    "common_list = set(Country_List).intersection(Country_List2)"
   ]
  },
  {
   "attachments": {},
   "cell_type": "markdown",
   "metadata": {},
   "source": [
    "The command \"set\" is used to convert out first list into a set. We then use \"intersection\" to set our second as parameters to find any common elements between the two."
   ]
  },
  {
   "cell_type": "code",
   "execution_count": null,
   "metadata": {
    "vscode": {
     "languageId": "plaintext"
    }
   },
   "outputs": [],
   "source": [
    "common_list"
   ]
  },
  {
   "cell_type": "markdown",
   "metadata": {},
   "source": [
    "This assignment has been completed"
   ]
  }
 ],
 "metadata": {
  "kernelspec": {
   "display_name": "Python 3",
   "language": "python",
   "name": "python3"
  },
  "language_info": {
   "codemirror_mode": {
    "name": "ipython",
    "version": 3
   },
   "file_extension": ".py",
   "mimetype": "text/x-python",
   "name": "python",
   "nbconvert_exporter": "python",
   "pygments_lexer": "ipython3",
   "version": "3.8.5"
  }
 },
 "nbformat": 4,
 "nbformat_minor": 4
}
