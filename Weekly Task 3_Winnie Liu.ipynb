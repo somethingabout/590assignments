{
 "cells": [
  {
   "cell_type": "markdown",
   "metadata": {},
   "source": [
    "# Weekly Task 2 - I worked on this assignment with Fiona Waterman. \n",
    "![wooo!](https://media.giphy.com/media/SNrC0OKr4YP2U/giphy.gif?cid=ecf05e47lnb8o893cghul7mragm4n7ric88y6ka94wp4r25f&rid=giphy.gif&ct=g)"
   ]
  },
  {
   "cell_type": "markdown",
   "metadata": {},
   "source": [
    "Remember the rules of ~Fight~ Code Club:\n",
    "1. ALWAYS DOCUMENT\n",
    "2. Cite resources that you use (paste links)\n",
    "3. Include the names people who you worked with\n",
    "4. Be neat and organized"
   ]
  },
  {
   "cell_type": "markdown",
   "metadata": {},
   "source": [
    "### 1.  Write a python script using a for loop and range function that prints numbers 30 through 100 by every 10 except 70."
   ]
  },
  {
   "cell_type": "code",
   "execution_count": 3,
   "metadata": {},
   "outputs": [
    {
     "name": "stdout",
     "output_type": "stream",
     "text": [
      "30\n",
      "40\n",
      "50\n",
      "60\n",
      "80\n",
      "90\n",
      "100\n"
     ]
    }
   ],
   "source": [
    "counter = 0\n",
    "for i in range(30,110,10): \n",
    "    # the range function starts a list of integer. The first integer is 30, the last integer is 100. The integers increase by 10. \n",
    "    \n",
    "    if i < 70:\n",
    "        print(i)\n",
    "    # if the number is smaller than 70, print the number. \n",
    "    \n",
    "    counter +=10\n",
    "    if i > 70: \n",
    "        print(i)\n",
    "    # if the number is larger than 70, print the number. \n",
    "    # 70 is not included in the list, therefore it is not included in the list that was printed out. \n"
   ]
  },
  {
   "cell_type": "markdown",
   "metadata": {},
   "source": [
    "### 2. Write a while loop that calculates celsius to farenheit from 0 up to and including 38 celsius (hint: (32°F − 32) × 5/9 = 0°C)\n"
   ]
  },
  {
   "cell_type": "code",
   "execution_count": 26,
   "metadata": {
    "scrolled": true
   },
   "outputs": [
    {
     "name": "stdout",
     "output_type": "stream",
     "text": [
      "32.0\n",
      "33.8\n",
      "35.6\n",
      "37.4\n",
      "39.2\n",
      "41.0\n",
      "42.8\n",
      "44.6\n",
      "46.4\n",
      "48.2\n",
      "50.0\n",
      "51.8\n",
      "53.6\n",
      "55.4\n",
      "57.2\n",
      "59.0\n",
      "60.8\n",
      "62.6\n",
      "64.4\n",
      "66.2\n",
      "68.0\n",
      "69.8\n",
      "71.6\n",
      "73.4\n",
      "75.2\n",
      "77.0\n",
      "78.8\n",
      "80.6\n",
      "82.4\n",
      "84.2\n",
      "86.0\n",
      "87.8\n",
      "89.6\n",
      "91.4\n",
      "93.2\n",
      "95.0\n",
      "96.8\n",
      "98.6\n",
      "100.4\n"
     ]
    }
   ],
   "source": [
    "c = 0 # set the first celcius as 0\n",
    "f = 32 + 9/5*c # set the equation of farenheit\n",
    "while c<= 38: \n",
    "    f = 32 + 9/5*c\n",
    "    c = c+1\n",
    "    print(round(f, 2))\n",
    "    \n",
    "    "
   ]
  },
  {
   "cell_type": "markdown",
   "metadata": {},
   "source": [
    "Source:       \n",
    "Round function: https://www.w3schools.com/python/ref_func_round.asp"
   ]
  },
  {
   "cell_type": "markdown",
   "metadata": {},
   "source": [
    "### 3. Write a script with a nested for loop that prints out every month and then prints out the total days of the month. "
   ]
  },
  {
   "cell_type": "code",
   "execution_count": 41,
   "metadata": {},
   "outputs": [
    {
     "name": "stdout",
     "output_type": "stream",
     "text": [
      "January has 31 days.\n",
      "February has 28 or 29 days.\n",
      "March has 31 days.\n",
      "April has 30 days.\n",
      "May has 31 days.\n",
      "June has 30 days.\n",
      "July has 31 days.\n",
      "August has 31 days.\n",
      "September has 30 days.\n",
      "October has 31 days.\n",
      "November has 30 days.\n",
      "December has 31 days.\n"
     ]
    }
   ],
   "source": [
    "# create a list for all the months. \n",
    "months = ['January','February', 'March','April','May',\n",
    "             'June','July','August','September', 'October', 'November', 'December']\n",
    "\n",
    "#create a list with months that have 31 days\n",
    "days_31 =  ['January','March','May','July', 'August', 'October', 'December']\n",
    "\n",
    "#create a list with months that have 30 days\n",
    "days_30 = ['April','June', 'September', 'November']\n",
    "\n",
    "#for every item in the list months: \n",
    "for i in months:\n",
    "    if i in days_31: # if the month is in the list \"days_31\", print [the month] has 31 days. \n",
    "        print(i,\"has 31 days.\")\n",
    "    elif i in days_30: # if the month is in the list \"days_30\", print [the month] has 30 days. \n",
    "        print(i,\"has 30 days.\")\n",
    "    else: # in other case, print[the month] has 28 or 29 days. \n",
    "        print(i,\"has 28 or 29 days.\")"
   ]
  },
  {
   "cell_type": "markdown",
   "metadata": {},
   "source": [
    "Source:     \n",
    "printing sentence with variables: https://www.delftstack.com/howto/python/python-print-variable/"
   ]
  },
  {
   "cell_type": "code",
   "execution_count": 37,
   "metadata": {},
   "outputs": [
    {
     "name": "stdout",
     "output_type": "stream",
     "text": [
      "Jan 31\n",
      "Feb 28\n",
      "Mar 31\n",
      "Apr 30\n",
      "May 31\n",
      "Jun 30\n",
      "Jul 31\n",
      "Agu 31\n",
      "Sep 30\n",
      "Oct 31\n",
      "Nov 30\n",
      "Dec 31\n"
     ]
    }
   ],
   "source": [
    "months = ['Jan', 'Feb', 'Mar', 'Apr', 'May', 'Jun', 'Jul', 'Agu', 'Sep', 'Oct', 'Nov', 'Dec']\n",
    "days = [31,28,31,30,31,30,31,31,30,31,30,31]\n",
    "for (a, b) in zip(months, days):\n",
    "     print (a, b)"
   ]
  }
 ],
 "metadata": {
  "kernelspec": {
   "display_name": "Python 3",
   "language": "python",
   "name": "python3"
  },
  "language_info": {
   "codemirror_mode": {
    "name": "ipython",
    "version": 3
   },
   "file_extension": ".py",
   "mimetype": "text/x-python",
   "name": "python",
   "nbconvert_exporter": "python",
   "pygments_lexer": "ipython3",
   "version": "3.8.3"
  }
 },
 "nbformat": 4,
 "nbformat_minor": 4
}
