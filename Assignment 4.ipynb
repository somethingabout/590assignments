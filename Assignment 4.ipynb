{
 "cells": [
  {
   "cell_type": "markdown",
   "metadata": {},
   "source": [
    "<img src=\"https://media.giphy.com/media/3o6Ztah2Jo4BQReDIs/giphy.gif\" width=\"250\" height=\"250\"/>\n",
    "\n",
    "\n",
    "Remember the rules of ~Fight~ Code Club:\n",
    "1. ALWAYS DOCUMENT\n",
    "2. Cite resources that you use (paste links)\n",
    "3. Include the names people who you worked with\n",
    "4. Be neat and organized"
   ]
  },
  {
   "cell_type": "markdown",
   "metadata": {},
   "source": [
    "# Assignment 4\n",
    "\n",
    "1. Submit your **R notebook** with your code *AND* your dataset so I can reproduce the results.\n",
    "\n",
    "2. Import your data into R. If you clean your data in python, you can import the csv. If you do some additional cleaning in R, be sure to show that in your R code that you hand in.\n",
    "\n",
    "3. Run a regression with OLS. Ensure that you have more than 3 variables. It really should be more, but 3 is the absolute minimum. (25 pts)\n",
    "\n",
    "4. Run a regression with a filtered dataset (filter based on a category of your choosing within your dataset). (25 pts)\n",
    "\n",
    "6. Run your preferred regression using your dataset (different from regression 3 or 4). (25 pts)\n",
    "\n",
    "7. Write a few sentences about your preferred regression. Interpret the coefficients that are most important to you and discuss the statistical significance. (25 pts)\n",
    "\n"
   ]
  },
  {
   "cell_type": "code",
   "execution_count": null,
   "metadata": {},
   "outputs": [],
   "source": []
  }
 ],
 "metadata": {
  "kernelspec": {
   "display_name": "R",
   "language": "R",
   "name": "ir"
  },
  "language_info": {
   "codemirror_mode": "r",
   "file_extension": ".r",
   "mimetype": "text/x-r-source",
   "name": "R",
   "pygments_lexer": "r",
   "version": "4.0.3"
  }
 },
 "nbformat": 4,
 "nbformat_minor": 4
}
