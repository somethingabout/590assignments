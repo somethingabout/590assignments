{
 "cells": [
  {
   "cell_type": "markdown",
   "metadata": {},
   "source": [
    "# Weekly Task 2 - Roller Coaster Loops\n",
    "![wooo!](https://media.giphy.com/media/SNrC0OKr4YP2U/giphy.gif?cid=ecf05e47lnb8o893cghul7mragm4n7ric88y6ka94wp4r25f&rid=giphy.gif&ct=g)"
   ]
  },
  {
   "cell_type": "markdown",
   "metadata": {},
   "source": [
    "Remember the rules of ~Fight~ Code Club:\n",
    "1. ALWAYS DOCUMENT\n",
    "2. Cite resources that you use (paste links)\n",
    "3. Include the names people who you worked with\n",
    "4. Be neat and organized"
   ]
  },
  {
   "cell_type": "markdown",
   "metadata": {},
   "source": [
    "### 1.  Write a python script using a for loop and range function that prints numbers 30 through 100 by every 10 except 70."
   ]
  },
  {
   "cell_type": "code",
   "execution_count": null,
   "metadata": {},
   "outputs": [],
   "source": []
  },
  {
   "cell_type": "markdown",
   "metadata": {},
   "source": [
    "### 2. Write a while loop that calculates celsius to farenheit from 0 up to and including 38 celsius (hint: (32°F − 32) × 5/9 = 0°C)\n"
   ]
  },
  {
   "cell_type": "code",
   "execution_count": null,
   "metadata": {},
   "outputs": [],
   "source": []
  },
  {
   "cell_type": "markdown",
   "metadata": {},
   "source": [
    "### 3. Write a script with a nested for loop that prints out every month and then prints out the total days of the month. "
   ]
  },
  {
   "cell_type": "code",
   "execution_count": null,
   "metadata": {},
   "outputs": [],
   "source": []
  }
 ],
 "metadata": {
  "kernelspec": {
   "display_name": "Python 3",
   "language": "python",
   "name": "python3"
  },
  "language_info": {
   "codemirror_mode": {
    "name": "ipython",
    "version": 3
   },
   "file_extension": ".py",
   "mimetype": "text/x-python",
   "name": "python",
   "nbconvert_exporter": "python",
   "pygments_lexer": "ipython3",
   "version": "3.8.5"
  }
 },
 "nbformat": 4,
 "nbformat_minor": 4
}
