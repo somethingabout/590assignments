{
 "cells": [
  {
   "cell_type": "markdown",
   "metadata": {},
   "source": [
    "![](https://media.giphy.com/media/JWuBH9rCO2uZuHBFpm/giphy.gif)\n",
    "\n",
    "Remember the rules of ~Fight~ Code Club:\n",
    "1. ALWAYS DOCUMENT\n",
    "2. Cite resources that you use (paste links)\n",
    "3. Include the names people who you worked with\n",
    "4. Be neat and organized"
   ]
  },
  {
   "cell_type": "markdown",
   "metadata": {},
   "source": [
    "### Question 1\n",
    "\n",
    "Use the [pokeAPI](https://pokeapi.co/)\n",
    "\n",
    "Find out information about the Pokemon \"Gible\":\n",
    "- What is its type(s)?\n",
    "- What is its abilities?\n",
    "- How many pokemon are \"dragon\" type?\n",
    "\n",
    "You must use python and apply the GET method via their API to display this information."
   ]
  },
  {
   "cell_type": "code",
   "execution_count": null,
   "metadata": {},
   "outputs": [],
   "source": []
  },
  {
   "cell_type": "markdown",
   "metadata": {},
   "source": [
    "### Question 2\n",
    "\n",
    "Use the [Open Air Quality API](https://docs.openaq.org/)\n",
    "\n",
    "Hint: typically queries need a ? in the url\n",
    "\n",
    "Find out how much ozone there is near CCNY. Use the most recent date that you pull the information.\n",
    "\n",
    "You mut use python and apply the GET method via their API and display this information."
   ]
  },
  {
   "cell_type": "code",
   "execution_count": null,
   "metadata": {},
   "outputs": [],
   "source": []
  },
  {
   "cell_type": "markdown",
   "metadata": {},
   "source": [
    "### Question 4\n",
    "\n",
    "Use the [Open Air Quality API](https://docs.openaq.org/)\n",
    "\n",
    "Hint: typically queries need a ? in the url. Note that cities that need a space use a %20 between them (ie Los%20Angeles). Make sure that when you request information about a measurement that you are using a url that can do this for you.\n",
    "\n",
    "First find out what the parameter id is of 'Particulate matter less than 10 micrometers in diameter.'\n",
    "\n",
    "Then, find out how much 'Particulate matter less than 10 micrometers in diameter' there is in:\n",
    "- Beijing\n",
    "- Addis Ababa\n",
    "\n",
    "Bonus points if you can aggregate this information in one table.\n",
    "\n",
    "You must use python and apply the GET method via their API and display this information.\n",
    "\n"
   ]
  },
  {
   "cell_type": "code",
   "execution_count": null,
   "metadata": {},
   "outputs": [],
   "source": []
  },
  {
   "cell_type": "markdown",
   "metadata": {},
   "source": [
    "# Question 5\n",
    "\n",
    "\n",
    "Using Beautiful soup, get the subscriber number for from this website: https://twitchtracker.com/thatsrb2dude/subscribers"
   ]
  },
  {
   "cell_type": "code",
   "execution_count": null,
   "metadata": {},
   "outputs": [],
   "source": []
  }
 ],
 "metadata": {
  "kernelspec": {
   "display_name": "Python 3",
   "language": "python",
   "name": "python3"
  },
  "language_info": {
   "codemirror_mode": {
    "name": "ipython",
    "version": 3
   },
   "file_extension": ".py",
   "mimetype": "text/x-python",
   "name": "python",
   "nbconvert_exporter": "python",
   "pygments_lexer": "ipython3",
   "version": "3.8.5"
  }
 },
 "nbformat": 4,
 "nbformat_minor": 4
}
