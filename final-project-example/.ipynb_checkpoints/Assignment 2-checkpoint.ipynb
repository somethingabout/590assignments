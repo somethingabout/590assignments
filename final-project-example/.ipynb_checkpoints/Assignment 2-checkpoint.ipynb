{
 "cells": [
  {
   "cell_type": "markdown",
   "metadata": {},
   "source": [
    "# Assignment 2\n",
    "\n",
    "![](https://media.giphy.com/media/xT9C25UNTwfZuk85WP/giphy-downsized-large.gif)\n",
    "\n",
    "Remember the rules of ~Fight~ Code Club:\n",
    "1. ALWAYS DOCUMENT\n",
    "2. Cite resources that you use (paste links)\n",
    "3. Include the names people who you worked with\n",
    "4. Be neat and organized"
   ]
  },
  {
   "cell_type": "markdown",
   "metadata": {},
   "source": [
    "## Scrape and Clean data\n",
    "\n",
    "Based on you proposal, scrape or collect your data:\n",
    "\n",
    "1. One variable must be either: (40 pts)\n",
    "    1. scraped from the web OR;\n",
    "    2. collected from an API AND you must create one new variable that is \"new\" to the best of your knowledge (combination of other variables representing something new).\n",
    "\n",
    "2. You must have at least 3 variables, but you may include as many as you want into you final dataset. Likely, you will want to include more to make graphs and regressions. (30pts)\n",
    "\n",
    "3. You must be able to run a regression that makes some sense with this data (the regression doesn't have to be a complete model). Briefly describe one regression you would run with your variables. (You do not need to a run a regression, yet). (15pts)\n",
    "\n",
    "4. You must have one combined and cleaned dataset (15 pts)\n",
    "\n",
    "You must submit one python notebook on how you scraped/gathered data from an api, and how you combined and cleaned you data. I should be able to run your code and reproduce your final data set.  \n",
    "\n",
    "The other variables that you choose to include do not have to be collected by API or webscraped, but you do have to combine the files and clean the dataset with python.\n",
    "\n",
    "Thus, you must submit:\n",
    "- Your finalized data set (only one) (note: you may add more variables in the future).\n",
    "- Your documented python notebook\n",
    "- Any associated data files needed to produce the final dataset.\n",
    "\n",
    "You will be evaluated on:\n",
    "- Completeness of the data\n",
    "- Quality of the code \n",
    "- The creativity of the new variable/webscraped data you gather\n",
    "\n",
    "Be sure to upload ALL associated files for your code to run. I will run your code from beginning to end - make it easy for me to replicate your code."
   ]
  },
  {
   "cell_type": "code",
   "execution_count": null,
   "metadata": {},
   "outputs": [],
   "source": []
  }
 ],
 "metadata": {
  "kernelspec": {
   "display_name": "Python 3",
   "language": "python",
   "name": "python3"
  },
  "language_info": {
   "codemirror_mode": {
    "name": "ipython",
    "version": 3
   },
   "file_extension": ".py",
   "mimetype": "text/x-python",
   "name": "python",
   "nbconvert_exporter": "python",
   "pygments_lexer": "ipython3",
   "version": "3.8.5"
  }
 },
 "nbformat": 4,
 "nbformat_minor": 4
}
