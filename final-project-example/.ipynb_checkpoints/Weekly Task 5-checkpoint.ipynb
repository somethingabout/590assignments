{
 "cells": [
  {
   "cell_type": "markdown",
   "metadata": {},
   "source": [
    "![](https://media.giphy.com/media/3o6MbrACMlFCny8zmw/giphy.gif)\n",
    "\n",
    "Remember the rules of ~Fight~ Code Club:\n",
    "1. ALWAYS DOCUMENT\n",
    "2. Cite resources that you use (paste links)\n",
    "3. Include the names people who you worked with\n",
    "4. Be neat and organized"
   ]
  },
  {
   "cell_type": "markdown",
   "metadata": {},
   "source": [
    "# Question 1\n",
    "\n",
    "Using the dataset \"us-cities-top-1k-multi-year.csv\":\n",
    "1. Create a line graph of total population over time for the states: NY, PA, CT, NJ (10 pts)\n",
    "2. Be sure to include a title of the graph, labels on your axis, and a legend. (5 pts)\n",
    "3. Specify colors to be used in your code. (5 pts)"
   ]
  },
  {
   "cell_type": "markdown",
   "metadata": {},
   "source": [
    "# Question 2\n",
    "\n",
    "Using the dataset \"us-cities-top-1k-multi-year.csv\":\n",
    "1. Create a Bar Graph of the total population for 5 cities in the state of New York comparing 2014 years and 2018 years (15 pts)\n",
    "2. Be sure to include a title of the graph, labels on your axis, and a legend. (5 pts)\n",
    "3. Combine the graph in question 1 and question 2 in one figure."
   ]
  },
  {
   "cell_type": "markdown",
   "metadata": {},
   "source": [
    "## Question 3\n",
    "\n",
    "import the data \"job-automation-probability.csv\"\n",
    "1. A Histogram of the variable 'probability'\n",
    "2. A scatter plot of 'Average annual wage' and 'numbEmployed'\n",
    "3. Put both of these graphs in one figure\n",
    "4. Using item 3, change the ticks of Number Employed axes so that it is in logarithmic axis (hint: it's an option) \n",
    "5. Adding onto item 4, add a title and axis labels\n",
    "6. Save your figure as a png"
   ]
  },
  {
   "cell_type": "code",
   "execution_count": null,
   "metadata": {},
   "outputs": [],
   "source": []
  }
 ],
 "metadata": {
  "kernelspec": {
   "display_name": "Python 3",
   "language": "python",
   "name": "python3"
  },
  "language_info": {
   "codemirror_mode": {
    "name": "ipython",
    "version": 3
   },
   "file_extension": ".py",
   "mimetype": "text/x-python",
   "name": "python",
   "nbconvert_exporter": "python",
   "pygments_lexer": "ipython3",
   "version": "3.8.5"
  }
 },
 "nbformat": 4,
 "nbformat_minor": 4
}
